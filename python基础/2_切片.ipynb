{
 "cells": [
  {
   "cell_type": "code",
   "execution_count": 21,
   "metadata": {},
   "outputs": [
    {
     "name": "stdout",
     "output_type": "stream",
     "text": [
      "['a', 'b', 'c', 'd']\n",
      "['a', 'b', 'c']\n",
      "['a', 'c']\n",
      "['d', 'c', 'b', 'a']\n"
     ]
    }
   ],
   "source": [
    "# index - 从左到右数： 0，  1，  2，  3\n",
    "# index - 从右到左数：-4， -3， -2， -1\n",
    "arr = [\"a\", \"b\", \"c\", \"d\"]\n",
    "\n",
    "\n",
    "# 左闭右开  [第一个参数, 第二个参数)\n",
    "# 第一个参数：开始位置（包含）\n",
    "# 第二个参数：结束位置（不包含）\n",
    "# 第三个参数：步长\n",
    "    # [::-1] 表示反转的含义\n",
    "\n",
    "list_a = arr[0:4:]\n",
    "list_b = arr[-4:-1:]\n",
    "print(list_a)  # ['a', 'b', 'c', 'd']\n",
    "print(list_b)  # ['a', 'b', 'c']\n",
    "\n",
    "list_c = arr[::2]\n",
    "print(list_c)  # ['a', 'c']\n",
    "\n",
    "list_d = arr[::-1]\n",
    "print(list_d)  # ['d', 'c', 'b', 'a']\n",
    "\n"
   ]
  },
  {
   "cell_type": "markdown",
   "metadata": {},
   "source": [
    "# 切片数组，会新拷贝，不会修改到原来的数组"
   ]
  },
  {
   "cell_type": "code",
   "execution_count": 22,
   "metadata": {},
   "outputs": [
    {
     "name": "stdout",
     "output_type": "stream",
     "text": [
      "[111, 2, 3]\n",
      "[1, 2, 3, 4, 5]\n"
     ]
    }
   ],
   "source": [
    "nums = [1, 2, 3, 4, 5]\n",
    "new_nums = nums[0:3:]\n",
    "new_nums[0] = 111\n",
    "print(new_nums) # [111, 2, 3]\n",
    "print(nums)     # [1, 2, 3, 4, 5]"
   ]
  }
 ],
 "metadata": {
  "kernelspec": {
   "display_name": "ai",
   "language": "python",
   "name": "python3"
  },
  "language_info": {
   "codemirror_mode": {
    "name": "ipython",
    "version": 3
   },
   "file_extension": ".py",
   "mimetype": "text/x-python",
   "name": "python",
   "nbconvert_exporter": "python",
   "pygments_lexer": "ipython3",
   "version": "3.10.6"
  }
 },
 "nbformat": 4,
 "nbformat_minor": 2
}

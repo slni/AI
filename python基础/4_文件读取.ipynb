{
 "cells": [
  {
   "cell_type": "markdown",
   "metadata": {},
   "source": [
    "# 文件读取"
   ]
  },
  {
   "cell_type": "code",
   "execution_count": 1,
   "metadata": {},
   "outputs": [
    {
     "name": "stdout",
     "output_type": "stream",
     "text": [
      "print(\"hello world!\")\n"
     ]
    }
   ],
   "source": [
    "# 1. 打开文件\n",
    "f = open(\"hello.py\", mode=\"r\",encoding=\"utf-8\")\n",
    "# 2. 读取文件\n",
    "print(f.read())\n",
    "# 3. 关闭文件\n",
    "f.close()"
   ]
  },
  {
   "cell_type": "markdown",
   "metadata": {},
   "source": [
    "# 文件写入"
   ]
  },
  {
   "cell_type": "code",
   "execution_count": 2,
   "metadata": {},
   "outputs": [],
   "source": [
    "# 写文件\n",
    "f2 = open(\"hello.py\",mode=\"w\",encoding=\"utf-8\")\n",
    "# 写数据 - 会从头写，覆盖掉原来的内容\n",
    "f2.write(\"# 测试文件写入 hello f write\")\n",
    "\n",
    "f2.close()"
   ]
  },
  {
   "cell_type": "markdown",
   "metadata": {},
   "source": [
    "* 使用with语句来打开文件是一种简洁且安全的方式，它可以确保文件在使用后被正确关闭"
   ]
  },
  {
   "cell_type": "code",
   "execution_count": 3,
   "metadata": {},
   "outputs": [],
   "source": [
    "with open(\"hello.py\",mode=\"w\",encoding=\"utf-8\") as f:\n",
    "    f.write(\"# 写入文件 hello world\")"
   ]
  }
 ],
 "metadata": {
  "kernelspec": {
   "display_name": "ai",
   "language": "python",
   "name": "python3"
  },
  "language_info": {
   "codemirror_mode": {
    "name": "ipython",
    "version": 3
   },
   "file_extension": ".py",
   "mimetype": "text/x-python",
   "name": "python",
   "nbconvert_exporter": "python",
   "pygments_lexer": "ipython3",
   "version": "3.10.6"
  }
 },
 "nbformat": 4,
 "nbformat_minor": 2
}

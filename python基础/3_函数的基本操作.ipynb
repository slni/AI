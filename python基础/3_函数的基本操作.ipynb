{
 "cells": [
  {
   "cell_type": "markdown",
   "metadata": {},
   "source": [
    "# 定义函数，调用函数"
   ]
  },
  {
   "cell_type": "code",
   "execution_count": 1,
   "metadata": {},
   "outputs": [
    {
     "name": "stdout",
     "output_type": "stream",
     "text": [
      "3\n",
      "abcd\n"
     ]
    }
   ],
   "source": [
    "def add(x, y):\n",
    "    return x + y\n",
    "\n",
    "print(add(1, 2))\n",
    "print(add(\"a\", \"bcd\"))"
   ]
  },
  {
   "cell_type": "markdown",
   "metadata": {},
   "source": [
    "# 默认参数"
   ]
  },
  {
   "cell_type": "code",
   "execution_count": 3,
   "metadata": {},
   "outputs": [
    {
     "name": "stdout",
     "output_type": "stream",
     "text": [
      "110\n",
      "ab\n"
     ]
    }
   ],
   "source": [
    "def addValue(x, y=100):\n",
    "    return x + y\n",
    "\n",
    "print(addValue(10))\n",
    "# print(addValue(\"a\"))  # 报错，错误的数据类型相加\n",
    "print(addValue(\"a\", \"b\"))"
   ]
  },
  {
   "cell_type": "markdown",
   "metadata": {},
   "source": [
    "# 函数调用：\n",
    "1. 顺序参数\n",
    "2. 关键字参数\n",
    "3. 混合使用，先写顺序参数，再写关键字参数"
   ]
  },
  {
   "cell_type": "code",
   "execution_count": null,
   "metadata": {},
   "outputs": [],
   "source": [
    "def test3(x,y,z=100):\n",
    "    print(x,y,z)\n",
    "\n",
    "# 顺序参数\n",
    "test3(10,20,40) \n",
    "# 关键字参数\n",
    "test3(z=90,x=1,y=2)\n",
    "# 混合使用\n",
    "test3(50,z=8,y=3)"
   ]
  }
 ],
 "metadata": {
  "kernelspec": {
   "display_name": "ai",
   "language": "python",
   "name": "python3"
  },
  "language_info": {
   "codemirror_mode": {
    "name": "ipython",
    "version": 3
   },
   "file_extension": ".py",
   "mimetype": "text/x-python",
   "name": "python",
   "nbconvert_exporter": "python",
   "pygments_lexer": "ipython3",
   "version": "3.10.6"
  }
 },
 "nbformat": 4,
 "nbformat_minor": 2
}

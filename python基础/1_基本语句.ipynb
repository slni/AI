{
 "cells": [
  {
   "cell_type": "markdown",
   "metadata": {},
   "source": [
    "1. 定义变量"
   ]
  },
  {
   "cell_type": "code",
   "execution_count": 7,
   "metadata": {},
   "outputs": [
    {
     "name": "stdout",
     "output_type": "stream",
     "text": [
      "slni\n",
      "xiaoming 12 [1, 2, 3]\n"
     ]
    }
   ],
   "source": [
    "name = \"slni\"\n",
    "print(name)\n",
    "name = \"xiaoming\"\n",
    "age = 12\n",
    "arr = [1, 2, 3]\n",
    "print(name, age, arr)"
   ]
  },
  {
   "cell_type": "markdown",
   "metadata": {},
   "source": [
    "2. 字典"
   ]
  },
  {
   "cell_type": "code",
   "execution_count": 12,
   "metadata": {},
   "outputs": [
    {
     "name": "stdout",
     "output_type": "stream",
     "text": [
      "one\n",
      "{'a': 'a_value', 'b': 'b_value', 'c': 'c_value'}\n",
      "b_value\n"
     ]
    }
   ],
   "source": [
    "dic = {1:\"one\", 2:\"two\"}\n",
    "print(dic[1])\n",
    "\n",
    "dic2 = {\"a\": \"a_value\", \"b\": \"b_value\"}\n",
    "dic2[\"c\"] = \"c_value\"\n",
    "print(dic2)\n",
    "print(dic2[\"b\"])"
   ]
  },
  {
   "cell_type": "markdown",
   "metadata": {},
   "source": [
    "3. 条件语句"
   ]
  },
  {
   "cell_type": "code",
   "execution_count": 9,
   "metadata": {},
   "outputs": [
    {
     "name": "stdout",
     "output_type": "stream",
     "text": [
      "<0\n"
     ]
    }
   ],
   "source": [
    "num = -5\n",
    "if num < 0:\n",
    "    print(\"<0\")\n",
    "elif num == 0:\n",
    "    print(\"==0\")\n",
    "else: \n",
    "    print(\">0\")\n",
    "\n"
   ]
  },
  {
   "cell_type": "markdown",
   "metadata": {},
   "source": [
    "4. 循环语句"
   ]
  },
  {
   "cell_type": "code",
   "execution_count": 15,
   "metadata": {},
   "outputs": [
    {
     "name": "stdout",
     "output_type": "stream",
     "text": [
      "1\n",
      "2\n",
      "3\n",
      "5\n",
      "4\n",
      "3\n",
      "2\n",
      "1\n"
     ]
    }
   ],
   "source": [
    "\n",
    "for i in [1, 2, 3]:\n",
    "    print(i)\n",
    "\n",
    "times = 5\n",
    "while(times > 0):\n",
    "    print(times)\n",
    "    times -= 1"
   ]
  },
  {
   "cell_type": "markdown",
   "metadata": {},
   "source": []
  }
 ],
 "metadata": {
  "kernelspec": {
   "display_name": "ai",
   "language": "python",
   "name": "python3"
  },
  "language_info": {
   "codemirror_mode": {
    "name": "ipython",
    "version": 3
   },
   "file_extension": ".py",
   "mimetype": "text/x-python",
   "name": "python",
   "nbconvert_exporter": "python",
   "pygments_lexer": "ipython3",
   "version": "3.10.6"
  }
 },
 "nbformat": 4,
 "nbformat_minor": 2
}

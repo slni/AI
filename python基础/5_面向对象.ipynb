{
 "cells": [
  {
   "cell_type": "markdown",
   "metadata": {},
   "source": [
    "* 静态成员变量\n",
    "* 成员变量"
   ]
  },
  {
   "cell_type": "code",
   "execution_count": null,
   "metadata": {},
   "outputs": [],
   "source": [
    "class Person:\n",
    "    # 1. 静态变量\n",
    "    desStr = \"person name\"\n",
    "\n",
    "    def __init__(self, name, age):\n",
    "        # 2. 成员变量\n",
    "        self.name = name\n",
    "        self.age = age\n",
    "\n",
    "person = Person(\"slni\", 22)\n",
    "print(person.name)\n",
    "print(Person.desStr)"
   ]
  },
  {
   "cell_type": "code",
   "execution_count": 10,
   "metadata": {},
   "outputs": [
    {
     "name": "stdout",
     "output_type": "stream",
     "text": [
      "27\n",
      "person1 name\n",
      "staticFuncTest call\n"
     ]
    }
   ],
   "source": [
    "class Person1:\n",
    "\n",
    "    desStr = \"person1 name\"\n",
    "    # 1. 构造方法\n",
    "    def __init__(self, age):\n",
    "        self.age = age\n",
    "\n",
    "    # 2. 对象方法\n",
    "    def addAge(self, num):\n",
    "        self.age += num\n",
    "\n",
    "    # 3. 类方法\n",
    "    @classmethod\n",
    "    def printDes(cls):\n",
    "        print(cls.desStr)\n",
    "\n",
    "    # 4. 静态方法\n",
    "    @staticmethod\n",
    "    def staticFuncTest():\n",
    "        print(\"staticFuncTest call\")\n",
    "    \n",
    "\n",
    "person1 = Person1(22)\n",
    "person1.addAge(5) # 调用对象方法\n",
    "print(person1.age)\n",
    "Person1.printDes() # 调用类方法\n",
    "Person1.staticFuncTest() # 调用静态方法"
   ]
  },
  {
   "cell_type": "code",
   "execution_count": 14,
   "metadata": {},
   "outputs": [
    {
     "ename": "TypeError",
     "evalue": "Person.__init__() takes 2 positional arguments but 3 were given",
     "output_type": "error",
     "traceback": [
      "\u001b[0;31m---------------------------------------------------------------------------\u001b[0m",
      "\u001b[0;31mTypeError\u001b[0m                                 Traceback (most recent call last)",
      "Cell \u001b[0;32mIn[14], line 10\u001b[0m\n\u001b[1;32m      7\u001b[0m     \u001b[38;5;28;01mdef\u001b[39;00m \u001b[38;5;21mstu_print_name\u001b[39m(\u001b[38;5;28mself\u001b[39m):\n\u001b[1;32m      8\u001b[0m         \u001b[38;5;28mprint\u001b[39m(\u001b[38;5;28mself\u001b[39m\u001b[38;5;241m.\u001b[39mname)\n\u001b[0;32m---> 10\u001b[0m stu \u001b[38;5;241m=\u001b[39m \u001b[43mStudent\u001b[49m\u001b[43m(\u001b[49m\u001b[38;5;124;43m\"\u001b[39;49m\u001b[38;5;124;43mslni\u001b[39;49m\u001b[38;5;124;43m\"\u001b[39;49m\u001b[43m,\u001b[49m\u001b[43m \u001b[49m\u001b[38;5;241;43m23\u001b[39;49m\u001b[43m,\u001b[49m\u001b[43m \u001b[49m\u001b[38;5;241;43m100\u001b[39;49m\u001b[43m)\u001b[49m\n\u001b[1;32m     11\u001b[0m stu\u001b[38;5;241m.\u001b[39mstu_print_name()\n",
      "Cell \u001b[0;32mIn[14], line 5\u001b[0m, in \u001b[0;36mStudent.__init__\u001b[0;34m(self, name, age, score)\u001b[0m\n\u001b[1;32m      3\u001b[0m \u001b[38;5;28;01mdef\u001b[39;00m \u001b[38;5;21m__init__\u001b[39m(\u001b[38;5;28mself\u001b[39m, name, age, score):\n\u001b[1;32m      4\u001b[0m     \u001b[38;5;28mself\u001b[39m\u001b[38;5;241m.\u001b[39mscore \u001b[38;5;241m=\u001b[39m score\n\u001b[0;32m----> 5\u001b[0m     \u001b[38;5;28;43msuper\u001b[39;49m\u001b[43m(\u001b[49m\u001b[43m)\u001b[49m\u001b[38;5;241;43m.\u001b[39;49m\u001b[38;5;21;43m__init__\u001b[39;49m\u001b[43m(\u001b[49m\u001b[43mname\u001b[49m\u001b[43m,\u001b[49m\u001b[43m \u001b[49m\u001b[43mage\u001b[49m\u001b[43m)\u001b[49m\n",
      "\u001b[0;31mTypeError\u001b[0m: Person.__init__() takes 2 positional arguments but 3 were given"
     ]
    }
   ],
   "source": [
    "class Student(Person):\n",
    "\n",
    "    def __init__(self, name, age, score):\n",
    "        self.score = score\n",
    "        super().__init__(name, age)\n",
    "\n",
    "    def stu_print_name(self):\n",
    "        print(self.name)\n",
    "\n",
    "stu = Student(\"slni\", 23, 100)\n",
    "stu.stu_print_name()"
   ]
  },
  {
   "cell_type": "code",
   "execution_count": null,
   "metadata": {},
   "outputs": [],
   "source": []
  }
 ],
 "metadata": {
  "kernelspec": {
   "display_name": "ai",
   "language": "python",
   "name": "python3"
  },
  "language_info": {
   "codemirror_mode": {
    "name": "ipython",
    "version": 3
   },
   "file_extension": ".py",
   "mimetype": "text/x-python",
   "name": "python",
   "nbconvert_exporter": "python",
   "pygments_lexer": "ipython3",
   "version": "3.10.6"
  }
 },
 "nbformat": 4,
 "nbformat_minor": 2
}

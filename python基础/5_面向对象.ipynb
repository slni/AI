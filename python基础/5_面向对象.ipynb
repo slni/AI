{
 "cells": [
  {
   "cell_type": "markdown",
   "metadata": {},
   "source": [
    "* 静态成员变量\n",
    "* 成员变量"
   ]
  },
  {
   "cell_type": "code",
   "execution_count": 15,
   "metadata": {},
   "outputs": [
    {
     "name": "stdout",
     "output_type": "stream",
     "text": [
      "slni\n",
      "person name\n"
     ]
    }
   ],
   "source": [
    "class Person:\n",
    "    # 1. 静态变量\n",
    "    desStr = \"person name\"\n",
    "\n",
    "    def __init__(self, name, age):\n",
    "        # 2. 成员变量\n",
    "        self.name = name\n",
    "        self.age = age\n",
    "\n",
    "person = Person(\"slni\", 22)\n",
    "print(person.name)\n",
    "print(Person.desStr)"
   ]
  },
  {
   "cell_type": "code",
   "execution_count": 16,
   "metadata": {},
   "outputs": [
    {
     "name": "stdout",
     "output_type": "stream",
     "text": [
      "27\n",
      "person1 name\n",
      "staticFuncTest call\n"
     ]
    }
   ],
   "source": [
    "class Person1:\n",
    "\n",
    "    desStr = \"person1 name\"\n",
    "    # 1. 构造方法\n",
    "    def __init__(self, age):\n",
    "        self.age = age\n",
    "\n",
    "    # 2. 对象方法\n",
    "    def addAge(self, num):\n",
    "        self.age += num\n",
    "\n",
    "    # 3. 类方法\n",
    "    @classmethod\n",
    "    def printDes(cls):\n",
    "        print(cls.desStr)\n",
    "\n",
    "    # 4. 静态方法\n",
    "    @staticmethod\n",
    "    def staticFuncTest():\n",
    "        print(\"staticFuncTest call\")\n",
    "    \n",
    "\n",
    "person1 = Person1(22)\n",
    "person1.addAge(5) # 调用对象方法\n",
    "print(person1.age)\n",
    "Person1.printDes() # 调用类方法\n",
    "Person1.staticFuncTest() # 调用静态方法"
   ]
  },
  {
   "cell_type": "markdown",
   "metadata": {},
   "source": [
    "1. 继承"
   ]
  },
  {
   "cell_type": "code",
   "execution_count": 18,
   "metadata": {},
   "outputs": [
    {
     "name": "stdout",
     "output_type": "stream",
     "text": [
      "slni 23 100\n"
     ]
    }
   ],
   "source": [
    "class Student(Person):\n",
    "\n",
    "    def __init__(self, name, age, score):\n",
    "        self.score = score\n",
    "        super().__init__(name, age)\n",
    "\n",
    "    def intro_self_info(self):\n",
    "        print(self.name, self.age, self.score)\n",
    "\n",
    "stu = Student(\"slni\", 23, 100)\n",
    "stu.intro_self_info()"
   ]
  },
  {
   "cell_type": "code",
   "execution_count": null,
   "metadata": {},
   "outputs": [],
   "source": []
  }
 ],
 "metadata": {
  "kernelspec": {
   "display_name": "ai",
   "language": "python",
   "name": "python3"
  },
  "language_info": {
   "codemirror_mode": {
    "name": "ipython",
    "version": 3
   },
   "file_extension": ".py",
   "mimetype": "text/x-python",
   "name": "python",
   "nbconvert_exporter": "python",
   "pygments_lexer": "ipython3",
   "version": "3.10.6"
  }
 },
 "nbformat": 4,
 "nbformat_minor": 2
}

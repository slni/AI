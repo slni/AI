{
 "cells": [
  {
   "cell_type": "code",
   "execution_count": 8,
   "metadata": {},
   "outputs": [
    {
     "name": "stdout",
     "output_type": "stream",
     "text": [
      "slni\n",
      "15\n",
      "55\n",
      "hello classmethod <class '__main__.Person'>\n",
      "hello testStaticmethod\n"
     ]
    }
   ],
   "source": [
    "class Person:\n",
    "    def __init__(self, name):\n",
    "        self.name = name\n",
    "        self.age = 15\n",
    "\n",
    "    # 对象方法\n",
    "    def addAge(self, age):\n",
    "        self.age += age\n",
    "\n",
    "    # 类方法 - 一定会有一个参数的\n",
    "    @classmethod\n",
    "    def testClassMethod(cls):\n",
    "        print(\"hello classmethod\", cls)\n",
    "\n",
    "    # 静态方法\n",
    "    @staticmethod\n",
    "    def testStaticmethod():\n",
    "        print(\"hello testStaticmethod\")\n",
    "\n",
    "p = Person(\"slni\")\n",
    "# print(p)\n",
    "print(p.name)\n",
    "print(p.age)\n",
    "p.age = 55\n",
    "print(p.age)\n",
    "\n",
    "Person.testClassMethod()\n",
    "Person.testStaticmethod()"
   ]
  }
 ],
 "metadata": {
  "kernelspec": {
   "display_name": "ai",
   "language": "python",
   "name": "python3"
  },
  "language_info": {
   "codemirror_mode": {
    "name": "ipython",
    "version": 3
   },
   "file_extension": ".py",
   "mimetype": "text/x-python",
   "name": "python",
   "nbconvert_exporter": "python",
   "pygments_lexer": "ipython3",
   "version": "3.10.6"
  }
 },
 "nbformat": 4,
 "nbformat_minor": 2
}
